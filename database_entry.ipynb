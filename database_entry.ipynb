{
 "cells": [
  {
   "cell_type": "code",
   "execution_count": 4,
   "metadata": {},
   "outputs": [
    {
     "name": "stdout",
     "output_type": "stream",
     "text": [
      "13-05-2023\n"
     ]
    }
   ],
   "source": [
    "from datetime import datetime\n",
    "\n",
    "# date_string = \"2021-07-13\"\n",
    "\n",
    "# Convert string to date object\n",
    "# date_object = datetime.strptime(\"2023-05-11\", \"%Y-%m-%d\").date()\n",
    "\n",
    "# Convert date object to string in the desired format\n",
    "# new_date_string = date_object.strftime(\"%d-%m-%Y\")\n",
    "new_date_string = datetime.strptime(\"2023-05-13\", \"%Y-%m-%d\").date().strftime(\"%d-%m-%Y\")\n",
    "\n",
    "print(new_date_string)"
   ]
  },
  {
   "cell_type": "code",
   "execution_count": 5,
   "metadata": {},
   "outputs": [
    {
     "data": {
      "text/plain": [
       "<sqlite3.Cursor at 0x18b653cb2c0>"
      ]
     },
     "execution_count": 5,
     "metadata": {},
     "output_type": "execute_result"
    }
   ],
   "source": [
    "import sqlite3\n",
    "import pandas as pd\n",
    "\n",
    "# Create a SQL connection to our SQLite database\n",
    "con = sqlite3.connect(\"project.sqlite\")\n",
    "cursor = con.cursor()\n",
    "\n",
    "df = pd.read_sql_query(\"SELECT * from transactions\", con)\n",
    "df = cursor.execute(\"DELETE FROM transactions WHERE Id = 14;\")\n",
    "con.commit()\n",
    "con.close()\n",
    "df"
   ]
  },
  {
   "cell_type": "code",
   "execution_count": null,
   "metadata": {},
   "outputs": [],
   "source": []
  }
 ],
 "metadata": {
  "kernelspec": {
   "display_name": "base",
   "language": "python",
   "name": "python3"
  },
  "language_info": {
   "codemirror_mode": {
    "name": "ipython",
    "version": 3
   },
   "file_extension": ".py",
   "mimetype": "text/x-python",
   "name": "python",
   "nbconvert_exporter": "python",
   "pygments_lexer": "ipython3",
   "version": "3.10.9"
  },
  "orig_nbformat": 4
 },
 "nbformat": 4,
 "nbformat_minor": 2
}
