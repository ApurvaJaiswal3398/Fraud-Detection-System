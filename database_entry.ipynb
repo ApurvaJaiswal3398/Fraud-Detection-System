{
 "cells": [
  {
   "cell_type": "code",
   "execution_count": 4,
   "metadata": {},
   "outputs": [
    {
     "name": "stdout",
     "output_type": "stream",
     "text": [
      "13-05-2023\n"
     ]
    }
   ],
   "source": [
    "from datetime import datetime\n",
    "\n",
    "# date_string = \"2021-07-13\"\n",
    "\n",
    "# Convert string to date object\n",
    "# date_object = datetime.strptime(\"2023-05-11\", \"%Y-%m-%d\").date()\n",
    "\n",
    "# Convert date object to string in the desired format\n",
    "# new_date_string = date_object.strftime(\"%d-%m-%Y\")\n",
    "new_date_string = datetime.strptime(\"2023-05-13\", \"%Y-%m-%d\").date().strftime(\"%d-%m-%Y\")\n",
    "\n",
    "print(new_date_string)"
   ]
  },
  {
   "cell_type": "code",
   "execution_count": null,
   "metadata": {},
   "outputs": [],
   "source": []
  }
 ],
 "metadata": {
  "kernelspec": {
   "display_name": "base",
   "language": "python",
   "name": "python3"
  },
  "language_info": {
   "codemirror_mode": {
    "name": "ipython",
    "version": 3
   },
   "file_extension": ".py",
   "mimetype": "text/x-python",
   "name": "python",
   "nbconvert_exporter": "python",
   "pygments_lexer": "ipython3",
   "version": "3.10.9"
  },
  "orig_nbformat": 4
 },
 "nbformat": 4,
 "nbformat_minor": 2
}
