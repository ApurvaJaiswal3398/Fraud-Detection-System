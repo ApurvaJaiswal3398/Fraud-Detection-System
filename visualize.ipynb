{
 "cells": [
  {
   "attachments": {},
   "cell_type": "markdown",
   "metadata": {},
   "source": [
    "# Fraud Detection System\n",
    "\n",
    "### Modules in the Project\n",
    "\n",
    "- Data Loading System\n",
    "- Dataset Wrangling System\n",
    "- Normalization and Encoding System\n",
    "- Dataset Visualization System\n",
    "- Model Training System\n",
    "- Hperparameter Tuning\n",
    "- Model Metric Calculation System\n",
    "- Database System\n",
    "- View manager\n",
    "- Template Manager\n",
    "- Model integration\n",
    "\n",
    "---\n",
    "\n",
    "*Contributors*\n",
    "1. [Apurva Jaiswal](https://github.com/ApurvaJaiswal3398/)\n",
    "2. [Suyash Mihir](https://github.com/mihirsuyash7/)"
   ]
  },
  {
   "cell_type": "markdown",
   "metadata": {},
   "source": []
  }
 ],
 "metadata": {
  "language_info": {
   "name": "python"
  },
  "orig_nbformat": 4
 },
 "nbformat": 4,
 "nbformat_minor": 2
}
